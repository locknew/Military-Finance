{
 "cells": [
  {
   "cell_type": "code",
   "execution_count": 13,
   "id": "eec4dbdd",
   "metadata": {},
   "outputs": [],
   "source": [
    "import os\n",
    "import re\n",
    "from datetime import datetime\n",
    "import fitz\n",
    "THAI_MONTH_MAP = {\n",
    "    \"มกราคม\": \"01\", \"กุมภาพันธ์\": \"02\", \"มีนาคม\": \"03\", \"เมษายน\": \"04\",\n",
    "    \"พฤษภาคม\": \"05\", \"มิถุนายน\": \"06\", \"กรกฎาคม\": \"07\", \"สิงหาคม\": \"08\",\n",
    "    \"กันยายน\": \"09\", \"ตุลาคม\": \"10\", \"พฤศจิกายน\": \"11\", \"ธันวาคม\": \"12\"\n",
    "}"
   ]
  },
  {
   "cell_type": "code",
   "execution_count": 29,
   "id": "be99c8dc",
   "metadata": {},
   "outputs": [],
   "source": [
    "def extract_be_year_and_month(pdf_path):\n",
    "    doc = fitz.open(pdf_path)\n",
    "    text = \"\"\n",
    "    for i in range(min(3, len(doc))):\n",
    "        text += doc[i].get_text()\n",
    "\n",
    "    # Match: month + optional ปี + optional พ.ศ. + year\n",
    "    pattern = r\"(\" + \"|\".join(THAI_MONTH_MAP.keys()) + r\")\\s*(ปี)?\\s*(พ\\.ศ\\.)?\\s*(\\d{2,4})\"\n",
    "    match = re.search(pattern, text)\n",
    "    if not match:\n",
    "        raise ValueError(\"❌ ไม่พบเดือนหรือปีในเนื้อหา PDF\")\n",
    "\n",
    "    thai_month = match.group(1)\n",
    "    raw_year = int(match.group(4))\n",
    "\n",
    "    # Always treat as BE year\n",
    "    be_year = raw_year if raw_year > 100 else 2500 + raw_year\n",
    "    month_number = THAI_MONTH_MAP[thai_month]\n",
    "\n",
    "    return str(be_year), month_number"
   ]
  },
  {
   "cell_type": "code",
   "execution_count": 27,
   "id": "db56c43d",
   "metadata": {},
   "outputs": [],
   "source": [
    "def create_nested_folder(base_path, be_year, month_number):\n",
    "    folder_path = os.path.join(base_path, be_year, month_number)\n",
    "    os.makedirs(folder_path, exist_ok=True)\n",
    "    return folder_path"
   ]
  },
  {
   "cell_type": "code",
   "execution_count": 30,
   "id": "83362003",
   "metadata": {},
   "outputs": [],
   "source": [
    "be_year, month = extract_be_year_and_month(\"สลีป พ.ค.68.pdf\")\n",
    "output_folder = create_nested_folder('/', be_year, month)"
   ]
  },
  {
   "cell_type": "markdown",
   "id": "d6a74f8e",
   "metadata": {},
   "source": []
  },
  {
   "cell_type": "code",
   "execution_count": null,
   "id": "730dd911",
   "metadata": {},
   "outputs": [],
   "source": []
  }
 ],
 "metadata": {
  "kernelspec": {
   "display_name": "base",
   "language": "python",
   "name": "python3"
  },
  "language_info": {
   "codemirror_mode": {
    "name": "ipython",
    "version": 3
   },
   "file_extension": ".py",
   "mimetype": "text/x-python",
   "name": "python",
   "nbconvert_exporter": "python",
   "pygments_lexer": "ipython3",
   "version": "3.12.7"
  }
 },
 "nbformat": 4,
 "nbformat_minor": 5
}
